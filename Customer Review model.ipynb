{
 "cells": [
  {
   "cell_type": "markdown",
   "metadata": {},
   "source": [
    "# COMP41680 Assignment 2"
   ]
  },
  {
   "cell_type": "markdown",
   "metadata": {},
   "source": [
    "##### Student name: Aditi Bansal \n",
    "##### Student no: 19200465"
   ]
  },
  {
   "cell_type": "markdown",
   "metadata": {},
   "source": [
    "### Import Packages etc"
   ]
  },
  {
   "cell_type": "code",
   "execution_count": 1,
   "metadata": {},
   "outputs": [],
   "source": [
    "import requests\n",
    "from bs4 import BeautifulSoup\n",
    "import pandas as pd\n",
    "import nltk\n",
    "from sklearn.feature_extraction.text import TfidfVectorizer\n",
    "from sklearn.model_selection import train_test_split\n",
    "from sklearn.linear_model import LogisticRegression\n",
    "from sklearn.ensemble import RandomForestClassifier\n",
    "from sklearn.naive_bayes import MultinomialNB\n",
    "from sklearn.metrics import accuracy_score, confusion_matrix\n",
    "from sklearn.model_selection import cross_validate\n",
    "from sklearn.metrics import make_scorer\n",
    "from sklearn.metrics import *\n",
    "from sklearn.metrics import confusion_matrix\n",
    "import seaborn as sb\n",
    "import matplotlib.pyplot as plt"
   ]
  },
  {
   "cell_type": "markdown",
   "metadata": {},
   "source": [
    "# Task 1: Scraping reviews and storing them with class labels\n",
    "\n",
    "I have chosen three categories as fashion, gym and hair & salon to scrape consumer reviews and evaluate the performance of text classification algorithms on these categories data. \n",
    "\n",
    "Since each category page has links for consumer reviews and ratings, I first scrapped all the href tags from the category page content to further extract reviews and ratings from those links. The web scraping has been done using BeautifulSoup package. After scraping all the href tags which are inside anchor tags of page, I stored them in separate lists for each category. \n",
    "\n",
    "I have created a function called get_url to perform this task so that we don't have to repeatedly perform the same link extraction task for each category."
   ]
  },
  {
   "cell_type": "code",
   "execution_count": 2,
   "metadata": {},
   "outputs": [],
   "source": [
    "def  get_url(href):\n",
    "    \n",
    "    homepage_url = 'http://mlg.ucd.ie/modules/yalp/'\n",
    "    \n",
    "    #empty list to store urls from the category\n",
    "    category_url = []\n",
    "    \n",
    "    # getting the reponse from the page of category using get method of requests module\n",
    "    response = requests.get(href)\n",
    "    \n",
    "    # storing the source code from webpage of the category\n",
    "    content = response.text\n",
    "    \n",
    "    #creating BeautifulSoup object to parse the source code\n",
    "    bsoup = BeautifulSoup(content, \"html.parser\")\n",
    "    \n",
    "    # Extracting only urls from the category\n",
    "    category_url =[homepage_url+ tags.get(\"href\") for tags in bsoup.find_all(\"a\")]\n",
    "    \n",
    "    return category_url\n",
    "    \n",
    "\n",
    "# Fetching category links\n",
    "fashion_href = 'http://mlg.ucd.ie/modules/yalp/fashion_list.html'\n",
    "gym_href = 'http://mlg.ucd.ie/modules/yalp/gym_list.html'\n",
    "hair_salon_href = 'http://mlg.ucd.ie/modules/yalp/hair_salons_list.html'\n",
    "\n",
    "#empty lists to store urls from the categories\n",
    "fashion_url = []\n",
    "gym_url = []\n",
    "hair_salon_url = []\n",
    "\n",
    "#Calling function to get fashion category urls \n",
    "fashion_url = get_url(fashion_href)\n",
    "\n",
    "#Calling function to get gym category urls \n",
    "gym_url = get_url(gym_href)\n",
    "\n",
    "#Calling function to get hair & salon category urls \n",
    "hair_salon_url = get_url(hair_salon_href)"
   ]
  },
  {
   "cell_type": "markdown",
   "metadata": {},
   "source": [
    "### Reviews and Ratings Extraction\n",
    "\n",
    "I have now extracted reviews and ratings from every link given on the category page and stored them in a dataframe for each category with class labels for each review as either negative for star rating from 1-3 or positive for star rating from 4-5. I have scrapped the ratings data from alt tag under image tag which has ratings in the form of nos from 1-5. I have done this by creating a function called review_ratings for reusability of code."
   ]
  },
  {
   "cell_type": "code",
   "execution_count": 3,
   "metadata": {},
   "outputs": [],
   "source": [
    "def review_ratings (urls):\n",
    "   \n",
    "   # List for the reviews of category.\n",
    "    reviews = []\n",
    "   # List for the ratings of each reviews for the category.\n",
    "    ratings = []\n",
    "    \n",
    "    for url in urls:\n",
    "        # leave the index page from all the urls as it does not have any review\n",
    "        if 'index' in url:\n",
    "            continue\n",
    "       \n",
    "       # retrieve the data from the specified base url.\n",
    "        data = requests.get(url)\n",
    "       \n",
    "       # scrape the contents of the web page\n",
    "        review_scraper = BeautifulSoup(data.content,'html.parser')\n",
    "       \n",
    "       # extract the review class from the paragraph tag\n",
    "        category_reviews = review_scraper.find_all('p',{\"class\":\"review-text\"})\n",
    "        for review in category_reviews:\n",
    "            reviews.append(review.text) # extracting only the text for the review\n",
    "           \n",
    "    # Ratings exists in alt tag of the img tags.\n",
    "        rating_all = review_scraper.find_all('img',alt=True)    \n",
    "       \n",
    "        for rating in rating_all:\n",
    "           # if rating is less than 3: The review will be Negative.\n",
    "            if int(rating.get('alt')[0])<=3:\n",
    "                ratings.append('negative')\n",
    "           \n",
    "           # if rating is greater than 3: The review will be Positive.\n",
    "            else:\n",
    "                ratings.append('positive')\n",
    "       \n",
    "   # Convert the Reviews and Ratings to a dataframe\n",
    "    reviews_rating = pd.DataFrame({'Reviews' : reviews, 'Labels': ratings})\n",
    "    \n",
    "    return reviews_rating\n",
    "\n",
    "#To get ratings of fashion reviews\n",
    "fashion_reviews = review_ratings(fashion_url)\n",
    "fashion_reviews.to_csv('./Fashion_reviews.csv', index = False)\n",
    "\n",
    "# To get ratings of gym reviews\n",
    "gym_reviews = review_ratings(gym_url)\n",
    "gym_reviews.to_csv('./Gym_reviews.csv', index = False)\n",
    "\n",
    "#To get ratings of hair & salon reviews\n",
    "hair_reviews = review_ratings(hair_salon_url)\n",
    "hair_reviews.to_csv('./Hair_salon_reviews.csv', index = False)"
   ]
  },
  {
   "cell_type": "markdown",
   "metadata": {},
   "source": [
    "# Task 2a: Preprocessing of category datasets\n",
    "\n",
    "In this task, I have preprocessed the data of each category stored above by:\n",
    "\n",
    "1. Data normalization - to transform the text in standard form by removing whitespaces, converting reviews text to lower case.\n",
    "2. Text lemmatization - normalized data has then been lemmatized.\n",
    "3. Stop word removal - removed low information words from text, so that we can focus on the important words instead.\n",
    "4. Term Frequency - Inverse document frequency - generated inverse document matrix of the reviews to quantify words in reviews text which will convert the data in numerical form for classification.\n",
    "\n",
    "Pre processing has been done to get the data in a consistent format to prepare data for further processing and classification. These pre processing steps will transform the data into useable form. \n",
    "\n",
    "Lemmatization or stemming could have been used for generating root words of the text in reviews as both produce stem words by removing affixes and taking into consideration plurality and tense of the word but the difference is stem might not generate an actual English word but lemma produces an actual English word. Stemming works by cutting off the end or the beginning of the word, taking into account the list of common prefixes and affixes whereas lemmatization takes into account the morphological analysis of the words, so it need to have a detailed dictionary which the algorithm can look through to link to the lemma. Though Porter stemming is faster and easier to implement, lemmatization is more accurate and give actual words. That's why I used lemmatization for pre processing the reviews text.  "
   ]
  },
  {
   "cell_type": "code",
   "execution_count": 4,
   "metadata": {},
   "outputs": [],
   "source": [
    "#Pre-processing of review text of each category\n",
    "\n",
    "# Removing the whitespaces and converting each review to lowercase.\n",
    "fashion_reviews['Reviews'] = [text.strip().lower() for text in fashion_reviews['Reviews']]\n",
    "\n",
    "gym_reviews['Reviews'] = [text.strip().lower() for text in gym_reviews['Reviews']]\n",
    "\n",
    "hair_reviews['Reviews'] = [text.strip().lower() for text in hair_reviews['Reviews']]"
   ]
  },
  {
   "cell_type": "code",
   "execution_count": 5,
   "metadata": {},
   "outputs": [],
   "source": [
    "# WordNetLemmatizer() from nltk\n",
    "lemmatizer = nltk.stem.WordNetLemmatizer()\n",
    "\n",
    "# Function to lemmatize the text to root word.\n",
    "def lemmatize_review(text):\n",
    "    return lemmatizer.lemmatize(text)\n",
    "\n",
    "# Invoke the lemmatize_review function for Reviews of each dataframe.\n",
    "fashion_reviews['Reviews'] = fashion_reviews.Reviews.apply(lemmatize_review)\n",
    "\n",
    "gym_reviews['Reviews'] = gym_reviews.Reviews.apply(lemmatize_review)\n",
    "\n",
    "hair_reviews['Reviews'] = hair_reviews.Reviews.apply(lemmatize_review)"
   ]
  },
  {
   "cell_type": "code",
   "execution_count": 6,
   "metadata": {},
   "outputs": [
    {
     "name": "stdout",
     "output_type": "stream",
     "text": [
      "    00   10  100        11   12   15   20   25   30   40  ...  wow  write  \\\n",
      "0  0.0  0.0  0.0  0.539994  0.0  0.0  0.0  0.0  0.0  0.0  ...  0.0    0.0   \n",
      "1  0.0  0.0  0.0  0.000000  0.0  0.0  0.0  0.0  0.0  0.0  ...  0.0    0.0   \n",
      "2  0.0  0.0  0.0  0.000000  0.0  0.0  0.0  0.0  0.0  0.0  ...  0.0    0.0   \n",
      "3  0.0  0.0  0.0  0.413938  0.0  0.0  0.0  0.0  0.0  0.0  ...  0.0    0.0   \n",
      "4  0.0  0.0  0.0  0.000000  0.0  0.0  0.0  0.0  0.0  0.0  ...  0.0    0.0   \n",
      "\n",
      "   wrong  year  years  yelp  yes  yesterday  young     Label  \n",
      "0    0.0   0.0    0.0   0.0  0.0        0.0    0.0  positive  \n",
      "1    0.0   0.0    0.0   0.0  0.0        0.0    0.0  negative  \n",
      "2    0.0   0.0    0.0   0.0  0.0        0.0    0.0  positive  \n",
      "3    0.0   0.0    0.0   0.0  0.0        0.0    0.0  positive  \n",
      "4    0.0   0.0    0.0   0.0  0.0        0.0    0.0  positive  \n",
      "\n",
      "[5 rows x 809 columns]\n",
      "    10  100   12   15   20   24   25   30   40   50  ...  year     years  \\\n",
      "0  0.0  0.0  0.0  0.0  0.0  0.0  0.0  0.0  0.0  0.0  ...   0.0  0.119452   \n",
      "1  0.0  0.0  0.0  0.0  0.0  0.0  0.0  0.0  0.0  0.0  ...   0.0  0.000000   \n",
      "2  0.0  0.0  0.0  0.0  0.0  0.0  0.0  0.0  0.0  0.0  ...   0.0  0.000000   \n",
      "3  0.0  0.0  0.0  0.0  0.0  0.0  0.0  0.0  0.0  0.0  ...   0.0  0.000000   \n",
      "4  0.0  0.0  0.0  0.0  0.0  0.0  0.0  0.0  0.0  0.0  ...   0.0  0.074546   \n",
      "\n",
      "       yelp  yes  ymca  yoga     young  zero  zumba     Label  \n",
      "0  0.000000  0.0   0.0   0.0  0.000000   0.0    0.0  positive  \n",
      "1  0.000000  0.0   0.0   0.0  0.000000   0.0    0.0  negative  \n",
      "2  0.000000  0.0   0.0   0.0  0.090559   0.0    0.0  negative  \n",
      "3  0.000000  0.0   0.0   0.0  0.000000   0.0    0.0  positive  \n",
      "4  0.120288  0.0   0.0   0.0  0.000000   0.0    0.0  positive  \n",
      "\n",
      "[5 rows x 970 columns]\n",
      "    00        10  100   12        15       20   25   30   40   45  ...  worth  \\\n",
      "0  0.0  0.000000  0.0  0.0  0.000000  0.00000  0.0  0.0  0.0  0.0  ...    0.0   \n",
      "1  0.0  0.000000  0.0  0.0  0.000000  0.00000  0.0  0.0  0.0  0.0  ...    0.0   \n",
      "2  0.0  0.000000  0.0  0.0  0.000000  0.00000  0.0  0.0  0.0  0.0  ...    0.0   \n",
      "3  0.0  0.248317  0.0  0.0  0.267638  0.00000  0.0  0.0  0.0  0.0  ...    0.0   \n",
      "4  0.0  0.000000  0.0  0.0  0.000000  0.32707  0.0  0.0  0.0  0.0  ...    0.0   \n",
      "\n",
      "   wouldn  wow  wrong  year  years  yelp  yes  yesterday     Label  \n",
      "0     0.0  0.0    0.0   0.0    0.0   0.0  0.0        0.0  positive  \n",
      "1     0.0  0.0    0.0   0.0    0.0   0.0  0.0        0.0  positive  \n",
      "2     0.0  0.0    0.0   0.0    0.0   0.0  0.0        0.0  negative  \n",
      "3     0.0  0.0    0.0   0.0    0.0   0.0  0.0        0.0  negative  \n",
      "4     0.0  0.0    0.0   0.0    0.0   0.0  0.0        0.0  positive  \n",
      "\n",
      "[5 rows x 735 columns]\n"
     ]
    }
   ],
   "source": [
    "# TF-IDF Vectorizer object to remove the stop words, fit and transform the reviews.\n",
    "tfidf_vectorizer = TfidfVectorizer(max_df=0.5,min_df=0.01,stop_words='english',use_idf=True)\n",
    "\n",
    "#Fashion reviews term document matrix.\n",
    "tfidf_fashion = tfidf_vectorizer.fit_transform(fashion_reviews['Reviews'])\n",
    "fashion_features = tfidf_vectorizer.get_feature_names()\n",
    "\n",
    "# Transformed fashion reviews with column names as the features from the vectorised object.\n",
    "fashion_df = pd.DataFrame(tfidf_fashion.todense(), columns = fashion_features)\n",
    "fashion_df['Label'] = fashion_reviews['Labels']\n",
    "print(fashion_df.head())\n",
    "\n",
    "#Gym reviews term document matrix.\n",
    "tfidf_gym = tfidf_vectorizer.fit_transform(gym_reviews['Reviews'])\n",
    "gym_features = tfidf_vectorizer.get_feature_names()\n",
    "\n",
    "# Transformed gym reviews with column names as the features from the vectorised object.\n",
    "gym_df = pd.DataFrame(tfidf_gym.todense(), columns = gym_features)\n",
    "gym_df['Label'] = gym_reviews['Labels']\n",
    "print(gym_df.head())\n",
    "\n",
    "#Hair & salon reviews term document matrix.\n",
    "tfidf_salon = tfidf_vectorizer.fit_transform(hair_reviews['Reviews'])\n",
    "salon_features = tfidf_vectorizer.get_feature_names()\n",
    "\n",
    "# Transformed hair & salon reviews with column names as the features from the vectorised object.\n",
    "hair_salon_df = pd.DataFrame(tfidf_salon.todense(), columns = salon_features)\n",
    "hair_salon_df['Label'] = hair_reviews['Labels']\n",
    "print(hair_salon_df.head())"
   ]
  },
  {
   "cell_type": "markdown",
   "metadata": {},
   "source": [
    "# Task 2b: Classification Model for reviews\n",
    "\n",
    "I have used cross validation to assess the predictive performance of RandomForest Classifier, Naive Bayes Classifier and Logistic Regression Classifier on the unseen data for each category review data set, in order to select one of these classifier performing better for doing review classification. \n",
    "\n",
    "I have used k-fold cross-validation technique, in which, say for k=10, 9 folds for training and 1 fold for testing purpose and this repeats unless all folds get a chance to be the test set one by one. This way, it provides a good idea of the generalization ability of the model.\n",
    "\n",
    "For each category, we can see classifier performance from cross- validation results as below:\n",
    "1. Fashion category - Logistic Regression Classifier is performing with higher accuracy than other classifiers with 86% accuracy.\n",
    "2. Gym category - Logistic Regression Classifier is performing with higher accuracy than other classifiers with 88% accuracy.\n",
    "3. Hair & Salon category - Naive Bayes and Logistic Regression Classifier, both performed with same accuracy of 90%."
   ]
  },
  {
   "cell_type": "code",
   "execution_count": 7,
   "metadata": {},
   "outputs": [],
   "source": [
    "def cross_val(df):\n",
    "    \n",
    "    model = {}\n",
    "    \n",
    "    # Classifier models\n",
    "    model['rf'] = RandomForestClassifier(max_depth=3, random_state=2)\n",
    "    model['mnb'] = MultinomialNB()\n",
    "    model['logistic'] = LogisticRegression(max_iter=1000, solver = 'sag', random_state=2)\n",
    "    \n",
    "    scoring = {'accuracy': make_scorer(accuracy_score)}\n",
    "    acc =[] # list to store the accuracy of each model for plotting\n",
    "    \n",
    "    # Performing cross validation on model m with category dataframe\n",
    "    for m in model:\n",
    "        cv_results = cross_validate(model[m],df.iloc[:,:-1] , df.iloc[:,-1], cv= 10,scoring=scoring, return_train_score=False,\n",
    "                                   verbose = 0, n_jobs = -1)\n",
    "   \n",
    "        acc.append(round(cv_results['test_accuracy'].mean(),2))\n",
    " \n",
    "        print(\"{} x CV {:22} Acc: {:.2f}\".format(10, type(model[m]).__name__, cv_results['test_accuracy'].mean()))\n",
    "   \n",
    "   # plotting the accuracy for each classifier\n",
    "    clf = ['RandomForest', 'MultinimoalNB', 'LogisticRegression']\n",
    "    fig, ax = plt.subplots()\n",
    "\n",
    "    bar = ax.barh(clf, acc, color=['red'])\n",
    "    plt.title('Classifier Performance')\n",
    "    plt.ylabel('Accuracy')\n",
    "    plt.xlabel('Classifier')\n",
    "    plt.show()"
   ]
  },
  {
   "cell_type": "code",
   "execution_count": 8,
   "metadata": {},
   "outputs": [
    {
     "name": "stdout",
     "output_type": "stream",
     "text": [
      "10 x CV RandomForestClassifier Acc: 0.71\n",
      "10 x CV MultinomialNB          Acc: 0.85\n",
      "10 x CV LogisticRegression     Acc: 0.86\n"
     ]
    },
    {
     "data": {
      "image/png": "[encoded data removed]",
      "text/plain": [
       "<Figure size 432x288 with 1 Axes>"
      ]
     },
     "metadata": {
      "needs_background": "light"
     },
     "output_type": "display_data"
    }
   ],
   "source": [
    "#Calling cross_val function for fashion reviews dataset to assess classifier performance\n",
    "cross_val(fashion_df)"
   ]
  },
  {
   "cell_type": "code",
   "execution_count": 9,
   "metadata": {},
   "outputs": [
    {
     "name": "stdout",
     "output_type": "stream",
     "text": [
      "10 x CV RandomForestClassifier Acc: 0.72\n",
      "10 x CV MultinomialNB          Acc: 0.87\n",
      "10 x CV LogisticRegression     Acc: 0.88\n"
     ]
    },
    {
     "data": {
      "image/png": "[encoded data removed]",
      "text/plain": [
       "<Figure size 432x288 with 1 Axes>"
      ]
     },
     "metadata": {
      "needs_background": "light"
     },
     "output_type": "display_data"
    }
   ],
   "source": [
    "#Calling cross_val function for gym reviews dataset to assess classifier performance\n",
    "cross_val(gym_df)"
   ]
  },
  {
   "cell_type": "code",
   "execution_count": 10,
   "metadata": {},
   "outputs": [
    {
     "name": "stdout",
     "output_type": "stream",
     "text": [
      "10 x CV RandomForestClassifier Acc: 0.80\n",
      "10 x CV MultinomialNB          Acc: 0.90\n",
      "10 x CV LogisticRegression     Acc: 0.90\n"
     ]
    },
    {
     "data": {
      "image/png": "[encoded data removed]",
      "text/plain": [
       "<Figure size 432x288 with 1 Axes>"
      ]
     },
     "metadata": {
      "needs_background": "light"
     },
     "output_type": "display_data"
    }
   ],
   "source": [
    "#Calling cross_val function for hair & salon reviews dataset to assess classifier performance\n",
    "cross_val(hair_salon_df)"
   ]
  },
  {
   "cell_type": "markdown",
   "metadata": {},
   "source": [
    "# Task 2b, 2c: Building and evaluating classification model\n",
    "\n",
    "I have defined a function to perform train_test_split on the category dataset and build the model with the classifier passed during function call, predictions made from this classifier are then evaluated using confusion matrix. \n",
    "\n",
    "Since our binary classifier predicts all data instances of a test dataset as either positive or negative. Thus the classification produces four outcomes – true positive, true negative, false positive and false negative. The main problem with classification accuracy is that it hides the detail we need to better understand the performance of our classification model so I chose confusion matrix for evaluation because it gives more granular information than just accuracy of the model and summarizes prediction results of our model on classification problem, calculating a confusion matrix gives us a better idea of what our classification model is getting right and what types of errors it is making."
   ]
  },
  {
   "cell_type": "code",
   "execution_count": 13,
   "metadata": {},
   "outputs": [],
   "source": [
    "# Function to split the category reviews dataset in training and testing dataset and do prediction.\n",
    "def train_test(df, classifier):\n",
    "    X_train, X_test, y_train, y_test = train_test_split(df.iloc[:,:-1], df.iloc[:,-1], test_size = 0.25)\n",
    "    \n",
    "    # Logistic Regression Classifier to classify fashion reviews.\n",
    "    clf = classifier   \n",
    "    # Fitting the model\n",
    "    clf_train = clf.fit(X_train, y_train)    \n",
    "    # Predicting the target for category reviews.\n",
    "    clf_pred = clf_train.predict(X_test)\n",
    "    \n",
    "    # Confusion matrix for the category review dataset\n",
    "    category_matrix = confusion_matrix(y_test, clf_pred)\n",
    "    print(classification_report(y_test, clf_pred, target_names=[\"positive\",\"negative\"]))\n",
    "    fig,ax = plt.subplots(figsize=(5,5))\n",
    "    sb.heatmap(category_matrix, annot=True, cbar = False, fmt = 'd', annot_kws= {'size':16}, cmap= 'Reds')\n",
    "    sb.set(font_scale= 1.5)\n",
    "    # Align the text in middle.\n",
    "    bottom,top = ax.get_ylim()\n",
    "    ax.set_ylim(bottom +0.5, top - 0.5)\n",
    "\n",
    "    # Assign labels to X and Y axis.\n",
    "    #xaxis ticks\n",
    "    ax.xaxis.set_ticklabels([\"positive\",\"negative\"], fontsize=12)\n",
    "    #yaxis ticks\n",
    "    ax.yaxis.set_ticklabels([\"positive\",\"negative\"], fontsize=12)\n",
    "    plt.ylabel('Actual')\n",
    "    plt.xlabel('Predicted')\n",
    "    plt.show()\n",
    "    \n",
    "    return clf_train"
   ]
  },
  {
   "cell_type": "markdown",
   "metadata": {},
   "source": [
    "### Performance of fashion review model\n",
    "\n",
    "I have used Logistic Regression for fashion review dataset as it performed better amongst all the classifiers while performing cross validation on the fashion dataset above. \n",
    "\n",
    "As can be seen from confusion matrix below, out of 500 test reviews, 291 negative reviews (TN) are predicted correctly while 152 positive reviews (TP) are predicted correctly, also there are low number of FNs and FPs as well, that is when classifier falsely predicted the class labels. We can further check F1 score of the model to get measure of model accuracy in terms of Precision and Recall. Thus, the overall performance of the model with fashion dataset is fine as Type I and Type II error are low and overall accuracy of model is 89%."
   ]
  },
  {
   "cell_type": "code",
   "execution_count": 14,
   "metadata": {},
   "outputs": [
    {
     "name": "stderr",
     "output_type": "stream",
     "text": [
      "C:\\Users\\Aditi\\Anaconda3\\lib\\site-packages\\sklearn\\linear_model\\logistic.py:432: FutureWarning: Default solver will be changed to 'lbfgs' in 0.22. Specify a solver to silence this warning.\n",
      "  FutureWarning)\n"
     ]
    },
    {
     "name": "stdout",
     "output_type": "stream",
     "text": [
      "              precision    recall  f1-score   support\n",
      "\n",
      "    positive       0.93      0.77      0.84       197\n",
      "    negative       0.87      0.96      0.91       303\n",
      "\n",
      "    accuracy                           0.89       500\n",
      "   macro avg       0.90      0.87      0.88       500\n",
      "weighted avg       0.89      0.89      0.88       500\n",
      "\n"
     ]
    },
    {
     "data": {
      "image/png": "[encoded data removed]",
      "text/plain": [
       "<Figure size 360x360 with 1 Axes>"
      ]
     },
     "metadata": {},
     "output_type": "display_data"
    }
   ],
   "source": [
    "#Calling function to do classifier prediction on the fashion reviews and evaluate classifier performance\n",
    "clf_fashion = train_test(fashion_df, LogisticRegression())"
   ]
  },
  {
   "cell_type": "markdown",
   "metadata": {},
   "source": [
    "### Performance of gym review model\n",
    "\n",
    "I have used Logistic Regression for gym review dataset as it performed better amongst all the classifiers while performing cross validation on the gym dataset above.\n",
    "\n",
    "As can be seen from confusion matrix below, out of 500 test reviews, 301 negative reviews (TN) are predicted correctly while 149 positive reviews (TP) are predicted correctly, also there are low number of FNs and FPs as well, that is when classifier falsely predicted the class labels. We can further check F1 score of the model to get measure of model accuracy in terms of Precision and Recall. Thus, the overall performance of the model with gym dataset is good as Type I and Type II error are low and the overall accuracy of model is 90%."
   ]
  },
  {
   "cell_type": "code",
   "execution_count": 15,
   "metadata": {},
   "outputs": [
    {
     "name": "stderr",
     "output_type": "stream",
     "text": [
      "C:\\Users\\Aditi\\Anaconda3\\lib\\site-packages\\sklearn\\linear_model\\logistic.py:432: FutureWarning: Default solver will be changed to 'lbfgs' in 0.22. Specify a solver to silence this warning.\n",
      "  FutureWarning)\n"
     ]
    },
    {
     "name": "stdout",
     "output_type": "stream",
     "text": [
      "              precision    recall  f1-score   support\n",
      "\n",
      "    positive       0.93      0.79      0.86       188\n",
      "    negative       0.89      0.96      0.92       312\n",
      "\n",
      "    accuracy                           0.90       500\n",
      "   macro avg       0.91      0.88      0.89       500\n",
      "weighted avg       0.90      0.90      0.90       500\n",
      "\n"
     ]
    },
    {
     "data": {
      "image/png": "[encoded data removed]",
      "text/plain": [
       "<Figure size 360x360 with 1 Axes>"
      ]
     },
     "metadata": {},
     "output_type": "display_data"
    }
   ],
   "source": [
    "#Calling function to do classifier prediction on the gym reviews and evaluate classifier performance\n",
    "clf_gym = train_test(gym_df,LogisticRegression())"
   ]
  },
  {
   "cell_type": "markdown",
   "metadata": {},
   "source": [
    "### Performance of hair & salon review model\n",
    "\n",
    "I have used Logistic Regression for hair & salon review dataset, though Naive Bayes performed equally good while performing cross validation on the hair & salon dataset above because Naive Bayes assumes that the features are conditionally independent and real data sets are never perfectly independent but they can be close. Thus, Naive Bayes has a higher bias but lower variance compared to logistic regression.\n",
    "\n",
    "As can be seen from confusion matrix below, out of 500 test reviews, 384 negative reviews (TN) are predicted correctly while 71 positive reviews (TP) are predicted correctly, also there are low number of FNs and FPs as well, that is when classifier falsely predicted the class labels. We can further check F1 score of the model to get measure of model accuracy in terms of Precision and Recall. Thus, the overall performance of the model with gym dataset is good as Type I and Type II error are low and the overall accuracy of model is 91%."
   ]
  },
  {
   "cell_type": "code",
   "execution_count": 16,
   "metadata": {},
   "outputs": [
    {
     "name": "stderr",
     "output_type": "stream",
     "text": [
      "C:\\Users\\Aditi\\Anaconda3\\lib\\site-packages\\sklearn\\linear_model\\logistic.py:432: FutureWarning: Default solver will be changed to 'lbfgs' in 0.22. Specify a solver to silence this warning.\n",
      "  FutureWarning)\n"
     ]
    },
    {
     "name": "stdout",
     "output_type": "stream",
     "text": [
      "              precision    recall  f1-score   support\n",
      "\n",
      "    positive       0.96      0.63      0.76       113\n",
      "    negative       0.90      0.99      0.94       387\n",
      "\n",
      "    accuracy                           0.91       500\n",
      "   macro avg       0.93      0.81      0.85       500\n",
      "weighted avg       0.91      0.91      0.90       500\n",
      "\n"
     ]
    },
    {
     "data": {
      "image/png": "[encoded data removed]",
      "text/plain": [
       "<Figure size 360x360 with 1 Axes>"
      ]
     },
     "metadata": {},
     "output_type": "display_data"
    }
   ],
   "source": [
    "#Calling function to do classifier prediction on the hair & salon reviews and evaluate classifier performance\n",
    "clf_hair_salon = train_test(hair_salon_df, LogisticRegression())"
   ]
  },
  {
   "cell_type": "markdown",
   "metadata": {},
   "source": [
    "# Task 3: Classification model performance evaluation on other categories"
   ]
  },
  {
   "cell_type": "code",
   "execution_count": 20,
   "metadata": {},
   "outputs": [],
   "source": [
    "# Storing rating labels for evaluation on test set\n",
    "y_fashion_test = fashion_df.iloc[:,-1]\n",
    "y_gym_test = gym_df.iloc[:,-1]\n",
    "y_hair_test = hair_salon_df.iloc[:,-1]"
   ]
  },
  {
   "cell_type": "code",
   "execution_count": 22,
   "metadata": {},
   "outputs": [],
   "source": [
    "# Function to get confusion matrix for performance evaluation of classifier \n",
    "def category_conf_matrix(y_test,clf_pred):\n",
    "   \n",
    "    category_matrix = confusion_matrix(y_test, clf_pred)\n",
    "    print(classification_report(y_test, clf_pred, target_names=[\"positive\",\"negative\"]))\n",
    "    fig,ax = plt.subplots(figsize=(5,5))\n",
    "    sb.heatmap(category_matrix, annot=True, cbar = False, fmt = 'd', annot_kws= {'size':16}, cmap= 'Reds')\n",
    "    sb.set(font_scale= 1.5)\n",
    "    # Align the text in middle.\n",
    "    bottom,top = ax.get_ylim()\n",
    "    ax.set_ylim(bottom +0.5, top - 0.5)\n",
    "\n",
    "    #xaxis ticks\n",
    "    ax.xaxis.set_ticklabels([\"positive\",\"negative\"], fontsize=12)\n",
    "    #yaxis ticks\n",
    "    ax.yaxis.set_ticklabels([\"positive\",\"negative\"], fontsize=12)   \n",
    "    # Assign labels to X and Y axis.\n",
    "    plt.ylabel('Actual')\n",
    "    plt.xlabel('Predicted')\n",
    "    plt.show()"
   ]
  },
  {
   "cell_type": "markdown",
   "metadata": {},
   "source": [
    "### Predicting gym and hair salon reviews from classifier trained on fashion reviews dataset"
   ]
  },
  {
   "cell_type": "code",
   "execution_count": 23,
   "metadata": {},
   "outputs": [
    {
     "name": "stdout",
     "output_type": "stream",
     "text": [
      "(2000, 808)\n",
      "(2000, 808)\n",
      "(2000, 808)\n"
     ]
    }
   ],
   "source": [
    "# Re-shaping the gym and hair salon review dataset according to fashion dataset\n",
    "tfidf_vectorizer = TfidfVectorizer(max_df = 0.5, min_df =0.01, stop_words = 'english', use_idf = True)\n",
    "\n",
    "fashion_vector = tfidf_vectorizer.fit_transform(fashion_reviews['Reviews'])\n",
    "print(fashion_vector.shape)\n",
    "\n",
    "# transform will shape the gym dataset according to above fitted and transformed fashion dataset\n",
    "gym_vector = tfidf_vectorizer.transform(gym_reviews['Reviews'])\n",
    "print(gym_vector.shape)\n",
    "\n",
    "# transform will shape the hair & salon dataset according to above fitted and transformed fashion dataset\n",
    "hair_salon_vector = tfidf_vectorizer.transform(hair_reviews['Reviews'])\n",
    "print(hair_salon_vector.shape)"
   ]
  },
  {
   "cell_type": "markdown",
   "metadata": {},
   "source": [
    "### Performance on gym data set of classification model trained on fashion dataset\n",
    "\n",
    "We can see from the confusion matrix of hair & salon dataset that when predictions are made from model trained on fashion dataset, there are more number of negative reviews which are correctly predicted and the overall accuracy of model is fine with 86% accuracy."
   ]
  },
  {
   "cell_type": "code",
   "execution_count": 24,
   "metadata": {},
   "outputs": [
    {
     "name": "stdout",
     "output_type": "stream",
     "text": [
      "              precision    recall  f1-score   support\n",
      "\n",
      "    positive       0.90      0.67      0.77       701\n",
      "    negative       0.84      0.96      0.90      1299\n",
      "\n",
      "    accuracy                           0.86      2000\n",
      "   macro avg       0.87      0.81      0.83      2000\n",
      "weighted avg       0.86      0.86      0.85      2000\n",
      "\n"
     ]
    },
    {
     "data": {
      "image/png": "[encoded data removed]",
      "text/plain": [
       "<Figure size 360x360 with 1 Axes>"
      ]
     },
     "metadata": {},
     "output_type": "display_data"
    }
   ],
   "source": [
    "# Using the trained classification model of fashion dataset clf_fashion from Task 2b for evaluating its performance on gym reviews dataset\n",
    "y_gym_pred = clf_fashion.predict(gym_vector)\n",
    "category_conf_matrix(y_gym_test, y_gym_pred)"
   ]
  },
  {
   "cell_type": "markdown",
   "metadata": {},
   "source": [
    "### Performance on hair & salon data set of classification model trained on fashion dataset\n",
    "\n",
    "We can see from the confusion matrix of hair & salon dataset that when predictions are made from model trained on fashion dataset, there are more number of negative reviews which are correctly predicted and the overall accuracy of model is very good with 91% accuracy."
   ]
  },
  {
   "cell_type": "code",
   "execution_count": 25,
   "metadata": {},
   "outputs": [
    {
     "name": "stdout",
     "output_type": "stream",
     "text": [
      "              precision    recall  f1-score   support\n",
      "\n",
      "    positive       0.90      0.66      0.76       442\n",
      "    negative       0.91      0.98      0.94      1558\n",
      "\n",
      "    accuracy                           0.91      2000\n",
      "   macro avg       0.91      0.82      0.85      2000\n",
      "weighted avg       0.91      0.91      0.90      2000\n",
      "\n"
     ]
    },
    {
     "data": {
      "image/png": "[encoded data removed]",
      "text/plain": [
       "<Figure size 360x360 with 1 Axes>"
      ]
     },
     "metadata": {},
     "output_type": "display_data"
    }
   ],
   "source": [
    "# Using the trained classification model of fashion dataset clf_fashion from Task 2b for evaluating its performance on hair & salon reviews dataset\n",
    "y_hair_salon_pred = clf_fashion.predict(hair_salon_vector)\n",
    "category_conf_matrix(y_hair_test, y_hair_salon_pred)"
   ]
  },
  {
   "cell_type": "markdown",
   "metadata": {},
   "source": [
    "### Predicting fashion and hair salon reviews from classifier trained on gym reviews dataset"
   ]
  },
  {
   "cell_type": "code",
   "execution_count": 27,
   "metadata": {},
   "outputs": [
    {
     "name": "stdout",
     "output_type": "stream",
     "text": [
      "(2000, 969)\n",
      "(2000, 969)\n",
      "(2000, 969)\n"
     ]
    }
   ],
   "source": [
    "# Re-shaping the fashion and hair salon review dataset according to gym dataset\n",
    "tfidf_vectorizer = TfidfVectorizer(max_df = 0.5, min_df =0.01, stop_words = 'english', use_idf = True)\n",
    "\n",
    "gym_vector = tfidf_vectorizer.fit_transform(gym_reviews['Reviews'])\n",
    "print(gym_vector.shape)\n",
    "\n",
    "# transform will shape the fashion dataset according to above fitted and transformed gym dataset\n",
    "fashion_vector = tfidf_vectorizer.transform(fashion_reviews['Reviews'])\n",
    "print(fashion_vector.shape)\n",
    "\n",
    "# transform will shape the hair & salon dataset according to above fitted and transformed gym dataset\n",
    "hair_salon_vector = tfidf_vectorizer.transform(hair_reviews['Reviews'])\n",
    "print(hair_salon_vector.shape)"
   ]
  },
  {
   "cell_type": "markdown",
   "metadata": {},
   "source": [
    "### Performance on fashion data set of classification model trained on gym dataset\n",
    "\n",
    "We can see from the confusion matrix of fashion dataset that when predictions are made from model trained on gym dataset that the overall accuracy of model is fine with 85% accuracy. Also, there are quite considerate number of falsely predicted labels."
   ]
  },
  {
   "cell_type": "code",
   "execution_count": 28,
   "metadata": {},
   "outputs": [
    {
     "name": "stdout",
     "output_type": "stream",
     "text": [
      "              precision    recall  f1-score   support\n",
      "\n",
      "    positive       0.85      0.76      0.80       795\n",
      "    negative       0.85      0.91      0.88      1205\n",
      "\n",
      "    accuracy                           0.85      2000\n",
      "   macro avg       0.85      0.84      0.84      2000\n",
      "weighted avg       0.85      0.85      0.85      2000\n",
      "\n"
     ]
    },
    {
     "data": {
      "image/png": "[encoded data removed]",
      "text/plain": [
       "<Figure size 360x360 with 1 Axes>"
      ]
     },
     "metadata": {},
     "output_type": "display_data"
    }
   ],
   "source": [
    "# Using the trained classification model of gym dataset clf_gym from Task 2b for evaluating its performance on fashion reviews dataset\n",
    "y_fashion_pred = clf_gym.predict(fashion_vector)\n",
    "category_conf_matrix(y_fashion_test, y_fashion_pred)"
   ]
  },
  {
   "cell_type": "markdown",
   "metadata": {},
   "source": [
    "### Performance on hair & salon data set of classification model trained on gym dataset\n",
    "\n",
    "We can see from the confusion matrix of hair & salon dataset that when predictions are made from model trained on gym dataset that the overall accuracy of model is quite good with 92% accuracy. Also, there are quite considerate number of falsely predicted labels."
   ]
  },
  {
   "cell_type": "code",
   "execution_count": 29,
   "metadata": {},
   "outputs": [
    {
     "name": "stdout",
     "output_type": "stream",
     "text": [
      "              precision    recall  f1-score   support\n",
      "\n",
      "    positive       0.80      0.83      0.81       442\n",
      "    negative       0.95      0.94      0.95      1558\n",
      "\n",
      "    accuracy                           0.92      2000\n",
      "   macro avg       0.87      0.88      0.88      2000\n",
      "weighted avg       0.92      0.92      0.92      2000\n",
      "\n"
     ]
    },
    {
     "data": {
      "image/png": "[encoded data removed]",
      "text/plain": [
       "<Figure size 360x360 with 1 Axes>"
      ]
     },
     "metadata": {},
     "output_type": "display_data"
    }
   ],
   "source": [
    "# Using the trained classification model of gym dataset clf_gym from Task 2b for evaluating its performance on hair & salon reviews dataset\n",
    "y_hair_salon_pred = clf_gym.predict(hair_salon_vector)\n",
    "category_conf_matrix(y_hair_test, y_hair_salon_pred)"
   ]
  },
  {
   "cell_type": "markdown",
   "metadata": {},
   "source": [
    "### Predicting fashion and gym reviews from classifier trained on hair & salon reviews dataset"
   ]
  },
  {
   "cell_type": "code",
   "execution_count": 30,
   "metadata": {},
   "outputs": [
    {
     "name": "stdout",
     "output_type": "stream",
     "text": [
      "(2000, 734)\n",
      "(2000, 734)\n",
      "(2000, 734)\n"
     ]
    }
   ],
   "source": [
    "# Re-shaping the fashion and gym review dataset according to hair & salon dataset\n",
    "tfidf_vectorizer = TfidfVectorizer(max_df = 0.5, min_df =0.01, stop_words = 'english', use_idf = True)\n",
    "\n",
    "hair_salon_vector = tfidf_vectorizer.fit_transform(hair_reviews['Reviews'])\n",
    "print(hair_salon_vector.shape)\n",
    "\n",
    "# transform will shape the gym dataset according to above fitted and transformed hair & salon dataset\n",
    "gym_vector = tfidf_vectorizer.transform(gym_reviews['Reviews'])\n",
    "print(gym_vector.shape)\n",
    "\n",
    "# transform will shape the fashion dataset according to above fitted and transformed hair & salon dataset\n",
    "fashion_vector = tfidf_vectorizer.transform(fashion_reviews['Reviews'])\n",
    "print(fashion_vector.shape)\n"
   ]
  },
  {
   "cell_type": "markdown",
   "metadata": {},
   "source": [
    "### Performance on fashion data set of classification model trained on hair & salon dataset\n",
    "\n",
    "We can see from the confusion matrix of fashion dataset that when predictions are made from model trained on hair & salon dataset that the overall accuracy of model is not that good with 79% accuracy. Also, there are quite high number of falsely predicted negative labels, i.e the precision for negative reviews prediction is quite low."
   ]
  },
  {
   "cell_type": "code",
   "execution_count": 31,
   "metadata": {},
   "outputs": [
    {
     "name": "stdout",
     "output_type": "stream",
     "text": [
      "              precision    recall  f1-score   support\n",
      "\n",
      "    positive       0.94      0.49      0.65       795\n",
      "    negative       0.75      0.98      0.85      1205\n",
      "\n",
      "    accuracy                           0.79      2000\n",
      "   macro avg       0.84      0.74      0.75      2000\n",
      "weighted avg       0.82      0.79      0.77      2000\n",
      "\n"
     ]
    },
    {
     "data": {
      "image/png": "[encoded data removed]",
      "text/plain": [
       "<Figure size 360x360 with 1 Axes>"
      ]
     },
     "metadata": {},
     "output_type": "display_data"
    }
   ],
   "source": [
    "# Using the trained classification model of hair & salon dataset clf_hair_salon from Task 2b for evaluating its performance on fashion reviews dataset\n",
    "y_fashion_pred = clf_hair_salon.predict(fashion_vector)\n",
    "category_conf_matrix(y_fashion_test, y_fashion_pred)"
   ]
  },
  {
   "cell_type": "markdown",
   "metadata": {},
   "source": [
    "### Performance on gym data set of classification model trained on hair & salon dataset\n",
    "\n",
    "We can see from the confusion matrix of fashion dataset that when predictions are made from model trained on hair & salon dataset that the overall accuracy of model is bad with 61% accuracy. Also, there are quite high number of falsely predicted  labels, i.e the precision for both negative and positive reviews prediction is quite low. "
   ]
  },
  {
   "cell_type": "code",
   "execution_count": 32,
   "metadata": {},
   "outputs": [
    {
     "name": "stdout",
     "output_type": "stream",
     "text": [
      "              precision    recall  f1-score   support\n",
      "\n",
      "    positive       0.37      0.17      0.23       701\n",
      "    negative       0.65      0.85      0.74      1299\n",
      "\n",
      "    accuracy                           0.61      2000\n",
      "   macro avg       0.51      0.51      0.48      2000\n",
      "weighted avg       0.55      0.61      0.56      2000\n",
      "\n"
     ]
    },
    {
     "data": {
      "image/png": "[encoded data removed]",
      "text/plain": [
       "<Figure size 360x360 with 1 Axes>"
      ]
     },
     "metadata": {},
     "output_type": "display_data"
    }
   ],
   "source": [
    "# Using the trained classification model of hair & salon dataset clf_hair_salon from Task 2b for evaluating its performance on gym reviews dataset\n",
    "y_gym_pred = clf_hair_salon.predict(hair_salon_vector)\n",
    "category_conf_matrix(y_gym_test, y_gym_pred)"
   ]
  },
  {
   "cell_type": "markdown",
   "metadata": {},
   "source": [
    "# Conclusion\n",
    "\n",
    "As we can see from the results above, we can say that since prediction of model trained on fashion dataset and hair & salon dataset worked more acurately for each other while they are not that good for gym dataset as fashion and gym are not much related categories, so the predictions made on the gym dataset will not be as accurate as those made on hair & salon dataset. This means that consumers have used more or less same words in writing reviews for fashion and hair & salon dataset. Thus for related categories, consumers have used same words, thus they are more accuratey predicted than those which are less related to each other. \n",
    "\n",
    "Also, the negative responses are predicted correctly most of the times as can be seen from confusion matrix of categories above as compared to positive responses which are falsely predicted quite a few number of times thus, we might need to collect more data of positive reviews to increase number of features with positive ratings and improve the results."
   ]
  }
 ],
 "metadata": {
  "kernelspec": {
   "display_name": "Python 3",
   "language": "python",
   "name": "python3"
  },
  "language_info": {
   "codemirror_mode": {
    "name": "ipython",
    "version": 3
   },
   "file_extension": ".py",
   "mimetype": "text/x-python",
   "name": "python",
   "nbconvert_exporter": "python",
   "pygments_lexer": "ipython3",
   "version": "3.7.3"
  }
 },
 "nbformat": 4,
 "nbformat_minor": 2
}
